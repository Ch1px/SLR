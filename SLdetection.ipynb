{
 "cells": [
  {
   "cell_type": "code",
   "execution_count": null,
   "metadata": {},
   "outputs": [],
   "source": [
    "%pip install tensorflow==2.7.0 tensorflow-gpu==2.7.0 opencv-python mediapipe sklearn matplotlib"
   ]
  },
  {
   "cell_type": "code",
   "execution_count": null,
   "metadata": {},
   "outputs": [],
   "source": [
    "import numpy as np\n",
    "import cv2\n",
    "import os\n",
    "import time\n",
    "import mediapipe as mp"
   ]
  },
  {
   "cell_type": "code",
   "execution_count": null,
   "metadata": {},
   "outputs": [],
   "source": [
    "mp_holistic = mp.solutions.holistic # Holistic model\n",
    "mp_drawing = mp.solutions.drawing_utils # Drawing utilities"
   ]
  },
  {
   "cell_type": "code",
   "execution_count": null,
   "metadata": {},
   "outputs": [],
   "source": [
    "def mediapipe_detection(input_image, model):\n",
    "    # Convert image from BGR to RGB\n",
    "    input_image = cv2.cvtColor(input_image, cv2.COLOR_BGR2RGB)\n",
    "    # Make prediction\n",
    "    detection_results = model.process(input_image)\n",
    "    # Convert image back to BGR\n",
    "    input_image = cv2.cvtColor(input_image, cv2.COLOR_RGB2BGR)\n",
    "\n",
    "    return input_image, detection_results"
   ]
  },
  {
   "cell_type": "code",
   "execution_count": null,
   "metadata": {},
   "outputs": [],
   "source": [
    "def draw_landmarks(input_image, detection_results):\n",
    "    # Draw face connections\n",
    "    mp_drawing.draw_landmarks(input_image, detection_results.face_landmarks, mp_holistic.FACEMESH_TESSELATION)\n",
    "    \n",
    "    # Draw pose connections\n",
    "    mp_drawing.draw_landmarks(input_image, detection_results.pose_landmarks, mp_holistic.POSE_CONNECTIONS)\n",
    "    \n",
    "    # Draw left hand connections\n",
    "    mp_drawing.draw_landmarks(input_image, detection_results.left_hand_landmarks, mp_holistic.HAND_CONNECTIONS)\n",
    "    \n",
    "    # Draw right hand connections\n",
    "    mp_drawing.draw_landmarks(input_image, detection_results.right_hand_landmarks, mp_holistic.HAND_CONNECTIONS)"
   ]
  },
  {
   "cell_type": "code",
   "execution_count": null,
   "metadata": {},
   "outputs": [],
   "source": [
    "def draw_styled_landmarks(input_image, detection_results):\n",
    "    # Set drawing specifications for face connections\n",
    "    face_points = mp_drawing.DrawingSpec(color=(255,0,0), thickness=1, circle_radius=1) \n",
    "    face_lines = mp_drawing.DrawingSpec(color=(255,255,0), thickness=1, circle_radius=1)\n",
    "\n",
    "    # Set drawing specifications for pose connections\n",
    "    pose_points = mp_drawing.DrawingSpec(color=(255,255,255), thickness=2, circle_radius=4)\n",
    "    pose_lines = mp_drawing.DrawingSpec(color=(0,255,0), thickness=2, circle_radius=2)\n",
    "\n",
    "    # Set drawing specifications for left hand connections\n",
    "    left_hand_points = mp_drawing.DrawingSpec(color=(0,150,255), thickness=2, circle_radius=4)\n",
    "    left_hand_lines = mp_drawing.DrawingSpec(color=(20,20,255), thickness=2, circle_radius=2)\n",
    "\n",
    "    # Set drawing specifications for right hand connections\n",
    "    right_hand_points = mp_drawing.DrawingSpec(color=(245,10,30), thickness=2, circle_radius=4)\n",
    "    right_hand_lines = mp_drawing.DrawingSpec(color=(245,30,240), thickness=2, circle_radius=2)\n",
    "\n",
    "    # Draw face connections\n",
    "    mp_drawing.draw_landmarks(input_image, detection_results.face_landmarks, mp_holistic.FACEMESH_TESSELATION, face_points, face_lines)\n",
    "\n",
    "    # Draw pose connections\n",
    "    mp_drawing.draw_landmarks(input_image, detection_results.pose_landmarks, mp_holistic.POSE_CONNECTIONS, pose_points, pose_lines)\n",
    "\n",
    "    # Draw left hand connections\n",
    "    mp_drawing.draw_landmarks(input_image, detection_results.left_hand_landmarks, mp_holistic.HAND_CONNECTIONS, left_hand_points, left_hand_lines)\n",
    "\n",
    "    # Draw right hand connections\n",
    "    mp_drawing.draw_landmarks(input_image, detection_results.right_hand_landmarks, mp_holistic.HAND_CONNECTIONS, right_hand_points, right_hand_lines)\n"
   ]
  },
  {
   "cell_type": "code",
   "execution_count": null,
   "metadata": {},
   "outputs": [],
   "source": [
    "# Initialize video capture\n",
    "capture = cv2.VideoCapture(0)\n",
    "\n",
    "# Set mediapipe model\n",
    "with mp_holistic.Holistic(min_detection_confidence=0.5, min_tracking_confidence=0.5) as holistic:\n",
    "    # Loop while video capture is open\n",
    "    while capture.isOpened():\n",
    "        # Read frame from video capture\n",
    "        ret, image_frame = capture.read()\n",
    "\n",
    "        # Process frame using mediapipe model\n",
    "        input_image, detection_results = mediapipe_detection(image_frame, holistic)\n",
    "\n",
    "        # Draw styled landmarks on frame\n",
    "        draw_styled_landmarks(input_image, detection_results)\n",
    "\n",
    "        # Display frame\n",
    "        cv2.imshow('OpenCV Feed', input_image)\n",
    "\n",
    "        # Break loop if 'q' key is pressed\n",
    "        if cv2.waitKey(10) & 0xFF == ord('q'):\n",
    "            break\n",
    "\n",
    "    # Release video capture and close windows\n",
    "    capture.release()\n",
    "    cv2.destroyAllWindows()\n"
   ]
  },
  {
   "cell_type": "code",
   "execution_count": null,
   "metadata": {},
   "outputs": [],
   "source": [
    "draw_landmarks(image_frame, detection_results)"
   ]
  }
 ],
 "metadata": {
  "kernelspec": {
   "display_name": "Python 3",
   "language": "python",
   "name": "python3"
  },
  "language_info": {
   "codemirror_mode": {
    "name": "ipython",
    "version": 3
   },
   "file_extension": ".py",
   "mimetype": "text/x-python",
   "name": "python",
   "nbconvert_exporter": "python",
   "pygments_lexer": "ipython3",
   "version": "3.9.13 (tags/v3.9.13:6de2ca5, May 17 2022, 16:36:42) [MSC v.1929 64 bit (AMD64)]"
  },
  "orig_nbformat": 4,
  "vscode": {
   "interpreter": {
    "hash": "b993e61a1e67040c4ef855bec37c166ec3c383a24a5273d2f54b7a1d88da4499"
   }
  }
 },
 "nbformat": 4,
 "nbformat_minor": 2
}
