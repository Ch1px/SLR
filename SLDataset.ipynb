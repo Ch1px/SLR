{
 "cells": [
  {
   "cell_type": "code",
   "execution_count": null,
   "metadata": {},
   "outputs": [],
   "source": [
    "# %pip install opencv-python mediapipe albumentations matplotlib\n",
    "\n",
    "# if you're using a virtual env please make sure you install the libraries above. Else if want to install globally uncomment the code above and run it to install the libraries\n",
    "\n",
    "# This file was used for creating the dataset."
   ]
  },
  {
   "cell_type": "code",
   "execution_count": null,
   "metadata": {},
   "outputs": [],
   "source": [
    "import numpy as np\n",
    "import cv2\n",
    "import os\n",
    "import mediapipe as mp\n",
    "import matplotlib.pyplot as plt\n",
    "import albumentations as A"
   ]
  },
  {
   "cell_type": "code",
   "execution_count": null,
   "metadata": {},
   "outputs": [],
   "source": [
    "mp_holistic = mp.solutions.holistic # Holistic model\n",
    "mp_drawing = mp.solutions.drawing_utils # Drawing utilities"
   ]
  },
  {
   "cell_type": "code",
   "execution_count": null,
   "metadata": {},
   "outputs": [],
   "source": [
    "def mediapipe_detection(input_image, model):\n",
    "\n",
    "    input_image = cv2.cvtColor(input_image, cv2.COLOR_BGR2RGB)\n",
    "   \n",
    "    detection_results = model.process(input_image)\n",
    "\n",
    "    input_image = cv2.cvtColor(input_image, cv2.COLOR_RGB2BGR)\n",
    "\n",
    "    return input_image, detection_results"
   ]
  },
  {
   "cell_type": "code",
   "execution_count": null,
   "metadata": {},
   "outputs": [],
   "source": [
    "def draw_landmarks(input_image, detection_results):\n",
    "    # Draw face connections\n",
    "    mp_drawing.draw_landmarks(input_image, detection_results.face_landmarks, mp_holistic.FACEMESH_TESSELATION)\n",
    "    \n",
    "    # Draw pose connections\n",
    "    mp_drawing.draw_landmarks(input_image, detection_results.pose_landmarks, mp_holistic.POSE_CONNECTIONS)\n",
    "    \n",
    "    # Draw left hand connections\n",
    "    mp_drawing.draw_landmarks(input_image, detection_results.left_hand_landmarks, mp_holistic.HAND_CONNECTIONS)\n",
    "    \n",
    "    # Draw right hand connections\n",
    "    mp_drawing.draw_landmarks(input_image, detection_results.right_hand_landmarks, mp_holistic.HAND_CONNECTIONS)"
   ]
  },
  {
   "cell_type": "code",
   "execution_count": null,
   "metadata": {},
   "outputs": [],
   "source": [
    "def draw_styled_landmarks(input_image, detection_results):\n",
    "    # Set drawing specifications for face connections\n",
    "    face_points = mp_drawing.DrawingSpec(color=(0,0,0), thickness=1, circle_radius=1) \n",
    "    face_lines = mp_drawing.DrawingSpec(color=(255,255,255), thickness=1, circle_radius=1)\n",
    "\n",
    "    # Set drawing specifications for pose connections\n",
    "    pose_points = mp_drawing.DrawingSpec(color=(0,0,0), thickness=1, circle_radius=2)\n",
    "    pose_lines = mp_drawing.DrawingSpec(color=(255,255,255), thickness=1, circle_radius=2)\n",
    "\n",
    "    # Set drawing specifications for left hand connections\n",
    "    left_hand_points = mp_drawing.DrawingSpec(color=(0,0,0), thickness=1, circle_radius=2)\n",
    "    left_hand_lines = mp_drawing.DrawingSpec(color=(255,255,255), thickness=1, circle_radius=2)\n",
    "\n",
    "    # Set drawing specifications for right hand connections\n",
    "    right_hand_points = mp_drawing.DrawingSpec(color=(0,0,0), thickness=1, circle_radius=2)\n",
    "    right_hand_lines = mp_drawing.DrawingSpec(color=(255,255,255), thickness=1, circle_radius=2)\n",
    "\n",
    "    # Draw face connections\n",
    "    mp_drawing.draw_landmarks(input_image, detection_results.face_landmarks, mp_holistic.FACEMESH_TESSELATION, face_points, face_lines)\n",
    "\n",
    "    # Draw pose connections\n",
    "    mp_drawing.draw_landmarks(input_image, detection_results.pose_landmarks, mp_holistic.POSE_CONNECTIONS, pose_points, pose_lines)\n",
    "\n",
    "    # Draw left hand connections\n",
    "    mp_drawing.draw_landmarks(input_image, detection_results.left_hand_landmarks, mp_holistic.HAND_CONNECTIONS, left_hand_points, left_hand_lines)\n",
    "\n",
    "    # Draw right hand connections\n",
    "    mp_drawing.draw_landmarks(input_image, detection_results.right_hand_landmarks, mp_holistic.HAND_CONNECTIONS, right_hand_points, right_hand_lines)"
   ]
  },
  {
   "cell_type": "code",
   "execution_count": null,
   "metadata": {},
   "outputs": [],
   "source": [
    "# Extract keypoints into flattened arrays\n",
    "def extract_keypoints (detection_results):\n",
    "    pose = np.array([[results.x, results.y, results.z, results.visibility]\n",
    "    for results in detection_results.pose_landmarks.landmark]).flatten() if detection_results.pose_landmarks else np.zeros(33*4)\n",
    "\n",
    "    face = np.array([[results.x, results.y, results.z]\n",
    "    for results in detection_results.face_landmarks.landmark]).flatten() if detection_results.face_landmarks else np.zeros(468*3)\n",
    "\n",
    "    left_hand = np.array([[results.x, results.y, results.z]\n",
    "    for results in detection_results.left_hand_landmarks.landmark]).flatten() if detection_results.left_hand_landmarks else np.zeros(21*3)\n",
    "\n",
    "    right_hand = np.array([[results.x, results.y, results.z]\n",
    "    for results in detection_results.right_hand_landmarks.landmark]).flatten() if detection_results.right_hand_landmarks else np.zeros(21*3)\n",
    "\n",
    "    return np.concatenate([pose, face, left_hand, right_hand])"
   ]
  },
  {
   "cell_type": "code",
   "execution_count": null,
   "metadata": {},
   "outputs": [],
   "source": [
    "cap = cv2.VideoCapture(0)\n",
    "# Set mediapipe model \n",
    "with mp_holistic.Holistic(min_detection_confidence=0.5, min_tracking_confidence=0.5) as holistic:\n",
    "    while cap.isOpened():\n",
    "\n",
    "        # Read feed\n",
    "        ret, frame = cap.read()\n",
    "\n",
    "        # Make detections\n",
    "        image, results = mediapipe_detection(frame, holistic)\n",
    "        print(results)\n",
    "        \n",
    "        # Draw landmarks\n",
    "        draw_styled_landmarks(image, results)\n",
    "\n",
    "        # Show to screen\n",
    "        cv2.imshow('OpenCV Feed', image)\n",
    "\n",
    "        # Break gracefully\n",
    "        if cv2.waitKey(10) & 0xFF == ord('q'):\n",
    "            break\n",
    "    cap.release()\n",
    "    cv2.destroyAllWindows()"
   ]
  },
  {
   "cell_type": "code",
   "execution_count": null,
   "metadata": {},
   "outputs": [],
   "source": [
    "cap.release()\n",
    "cv2.destroyAllWindows()"
   ]
  },
  {
   "cell_type": "code",
   "execution_count": null,
   "metadata": {},
   "outputs": [],
   "source": [
    "rgb_frame = cv2.cvtColor(frame, cv2.COLOR_BGR2RGB)\n",
    "bgr_frame = frame.copy()"
   ]
  },
  {
   "cell_type": "code",
   "execution_count": null,
   "metadata": {},
   "outputs": [],
   "source": [
    "draw_styled_landmarks(rgb_frame, results)\n",
    "draw_styled_landmarks(bgr_frame, results)"
   ]
  },
  {
   "cell_type": "code",
   "execution_count": null,
   "metadata": {},
   "outputs": [],
   "source": [
    "plt.figure(figsize=(10, 5))\n",
    "\n",
    "plt.subplot(1, 2, 1)\n",
    "plt.title(\"RGB Image\")\n",
    "plt.imshow(rgb_frame)\n",
    "\n",
    "plt.subplot(1, 2, 2)\n",
    "plt.title(\"BGR Image\")\n",
    "plt.imshow(bgr_frame)\n",
    "\n",
    "plt.show()\n"
   ]
  },
  {
   "cell_type": "code",
   "execution_count": null,
   "metadata": {},
   "outputs": [],
   "source": [
    "DATA_PATH = os.path.join('GestureData')\n",
    "\n",
    "# Gesture that will be detected \n",
    "gestures = np.array(['Hello', 'Good', 'Morning', 'Afternoon', 'Night', 'Thanks', 'Sorry', 'How are you', 'Sure'])\n",
    "%store gestures\n",
    "\n",
    "#new_gesture = ['Sure']\n",
    "\n",
    "# Number of sequences of data\n",
    "n_videos = 15\n",
    "# number of frames in each sequence \n",
    "length_frames = 20\n"
   ]
  },
  {
   "cell_type": "code",
   "execution_count": null,
   "metadata": {},
   "outputs": [],
   "source": [
    "augmentation_pipeline = A.Compose([\n",
    "    A.GaussianBlur(p=0.2),\n",
    "    A.RandomBrightnessContrast(brightness_limit=0.2, contrast_limit=0.2, p=0.5),\n",
    "    A.HueSaturationValue(hue_shift_limit=20, sat_shift_limit=30, val_shift_limit=20, p=0.5),\n",
    "    A.ChannelShuffle(p=0.5),\n",
    "    A.InvertImg(p=0.5),\n",
    "    A.CLAHE(clip_limit=4.0, tile_grid_size=(8, 8), p=0.5)\n",
    "], p=3)"
   ]
  },
  {
   "cell_type": "code",
   "execution_count": null,
   "metadata": {},
   "outputs": [],
   "source": [
    "import contextlib\n",
    "for gesture in gestures:\n",
    "    for frame in range(n_videos):\n",
    "        with contextlib.suppress(Exception):\n",
    "            os.makedirs(os.path.join(DATA_PATH, gesture, str(frame)))"
   ]
  },
  {
   "cell_type": "code",
   "execution_count": null,
   "metadata": {},
   "outputs": [],
   "source": [
    "#import contextlib\n",
    "#for gesture in new_gesture:\n",
    "    #for frame in range(n_videos):\n",
    "        #with contextlib.suppress(Exception):\n",
    "            #os.makedirs(os.path.join(DATA_PATH, gesture, str(frame)))"
   ]
  },
  {
   "cell_type": "code",
   "execution_count": null,
   "metadata": {},
   "outputs": [],
   "source": [
    "def find_next_video_number(gesture_folder):\n",
    "    video_numbers = [int(folder) for folder in os.listdir(gesture_folder) if folder.isdigit()]\n",
    "    return max(video_numbers) + 1 if video_numbers else 0\n",
    "\n",
    "cap = cv2.VideoCapture(0)\n",
    "# Set mediapipe model\n",
    "with mp_holistic.Holistic(min_detection_confidence=0.5, min_tracking_confidence=0.5) as holistic:\n",
    "    \n",
    "    # Loop through gestures\n",
    "    for gesture in gestures:\n",
    "        gesture_path = os.path.join(DATA_PATH, gesture)\n",
    "        start_video = find_next_video_number(gesture_path)\n",
    "\n",
    "        # Loop through sequence\n",
    "        for video in range(start_video, start_video + n_videos):\n",
    "            # Create folder for new video\n",
    "            os.makedirs(os.path.join(gesture_path, str(video)))\n",
    "\n",
    "            # Loop through length of frames captured\n",
    "            for frame_num in range(length_frames):\n",
    "\n",
    "                # Read feed\n",
    "                ret, input_frame = cap.read()\n",
    "\n",
    "                input_image = cv2.cvtColor(input_frame, cv2.COLOR_BGR2RGB)\n",
    "                augmented_image = augmentation_pipeline(image=input_image)['image']\n",
    "\n",
    "                # Convert the augmented_image back to BGR format\n",
    "                augmented_image = cv2.cvtColor(augmented_image, cv2.COLOR_RGB2BGR)\n",
    "\n",
    "                # Make detections using the augmented_image\n",
    "                input_image, results = mediapipe_detection(augmented_image, holistic)\n",
    "\n",
    "                # Draw landmarks\n",
    "                draw_styled_landmarks(input_image, results)\n",
    "\n",
    "                # Apply waiting time between each data sequence\n",
    "                if frame_num == 0: \n",
    "                    cv2.putText(input_image, 'STARTING COLLECTION', (120,200), \n",
    "                               cv2.FONT_HERSHEY_SIMPLEX, 1, (255,255, 255), 1, cv2.LINE_AA)\n",
    "                    cv2.putText(\n",
    "                        input_image,\n",
    "                        f'Collecting frames for {gesture} Video Number {video}',\n",
    "                        (15, 12),\n",
    "                        cv2.FONT_HERSHEY_SIMPLEX,\n",
    "                        0.5,\n",
    "                        (255, 255, 255),\n",
    "                        1,\n",
    "                        cv2.LINE_AA,\n",
    "                    )\n",
    "                    # Open to screen\n",
    "                    cv2.imshow('OpenCV Feed', input_image)\n",
    "\n",
    "                    # Two second wait time\n",
    "                    cv2.waitKey(2000)\n",
    "                else: \n",
    "                    cv2.putText(\n",
    "                        input_image,\n",
    "                        f'Collecting frames for {gesture} Video Number {video}',\n",
    "                        (15, 12),\n",
    "                        cv2.FONT_HERSHEY_SIMPLEX,\n",
    "                        0.5,\n",
    "                        (255, 255, 255),\n",
    "                        1,\n",
    "                        cv2.LINE_AA,\n",
    "                    )\n",
    "                    # Open to screen\n",
    "                    cv2.imshow('OpenCV Feed', input_image)\n",
    "\n",
    "                # Export new keypoints\n",
    "                keypoints = extract_keypoints(results)\n",
    "                npy_path = os.path.join(DATA_PATH, gesture, str(video), str(frame_num))\n",
    "                np.save(npy_path, keypoints)\n",
    "\n",
    "                # Press q to break\n",
    "                if cv2.waitKey(10) & 0xFF == ord('q'):\n",
    "\n",
    "                    break\n",
    "    cap.release()\n",
    "    cv2.destroyAllWindows()              "
   ]
  },
  {
   "cell_type": "code",
   "execution_count": null,
   "metadata": {},
   "outputs": [],
   "source": [
    "cap.release()\n",
    "cv2.destroyAllWindows() "
   ]
  },
  {
   "cell_type": "code",
   "execution_count": null,
   "metadata": {},
   "outputs": [],
   "source": [
    "last_input_frame_rgb = cv2.cvtColor(input_frame, cv2.COLOR_BGR2RGB)\n",
    "last_augmented_image = augmentation_pipeline(image=last_input_frame_rgb)['image']\n",
    "\n",
    "fig, ax = plt.subplots(1, 2, figsize=(10, 5))\n",
    "ax[0].imshow(last_input_frame_rgb)\n",
    "ax[0].set_title(\"Original Image\")\n",
    "ax[1].imshow(last_augmented_image)\n",
    "ax[1].set_title(\"Augmented Image\")\n",
    "plt.show()"
   ]
  }
 ],
 "metadata": {
  "kernelspec": {
   "display_name": "Python 3",
   "language": "python",
   "name": "python3"
  },
  "language_info": {
   "codemirror_mode": {
    "name": "ipython",
    "version": 3
   },
   "file_extension": ".py",
   "mimetype": "text/x-python",
   "name": "python",
   "nbconvert_exporter": "python",
   "pygments_lexer": "ipython3",
   "version": "3.9.13"
  },
  "orig_nbformat": 4,
  "vscode": {
   "interpreter": {
    "hash": "b993e61a1e67040c4ef855bec37c166ec3c383a24a5273d2f54b7a1d88da4499"
   }
  }
 },
 "nbformat": 4,
 "nbformat_minor": 2
}
